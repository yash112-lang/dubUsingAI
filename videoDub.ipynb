{
  "nbformat": 4,
  "nbformat_minor": 0,
  "metadata": {
    "colab": {
      "name": "videoDub",
      "provenance": [],
      "collapsed_sections": []
    },
    "kernelspec": {
      "display_name": "Python 3",
      "name": "python3"
    }
  },
  "cells": [
    {
      "cell_type": "code",
      "metadata": {
        "id": "8CY99IDYMCDh"
      },
      "source": [
        "import io\r\n",
        "import os\r\n",
        "from google.cloud import speech\r\n",
        "from google.cloud import translate\r\n",
        "from google.cloud import texttospeech\r\n",
        "from google.cloud import texttospeech_v1\r\n",
        "from google.cloud.speech_v1 import types\r\n",
        "from pydub import AudioSegment\r\n",
        "from google.colab import drive\r\n",
        "import json\r\n",
        "# from datetime import datetime\r\n",
        "import datetime"
      ],
      "execution_count": null,
      "outputs": []
    },
    {
      "cell_type": "code",
      "metadata": {
        "colab": {
          "base_uri": "https://localhost:8080/"
        },
        "id": "rBbx-ni-PeqK",
        "outputId": "0fbe7711-0044-45dd-e9a3-224b0512bbbe"
      },
      "source": [
        "drive.mount('/content/drive')"
      ],
      "execution_count": null,
      "outputs": [
        {
          "output_type": "stream",
          "text": [
            "Drive already mounted at /content/drive; to attempt to forcibly remount, call drive.mount(\"/content/drive\", force_remount=True).\n"
          ],
          "name": "stdout"
        }
      ]
    },
    {
      "cell_type": "code",
      "metadata": {
        "id": "iGpu2MckP3Yh"
      },
      "source": [
        "def convert_speech_to_text(audio):\r\n",
        "  \r\n",
        "    print(\"Start dubbing please wait ...\")\r\n",
        "    # setting up the google cloud speech API authentication\r\n",
        "    os.environ['GOOGLE_APPLICATION_CREDENTIALS'] = \"/content/drive/My Drive/GCP/speechToText-demonstration-2260bdd544a3.json\"\r\n",
        "    try:\r\n",
        "      # initializing the speech client\r\n",
        "      client = speech.SpeechClient()\r\n",
        "\r\n",
        "      # reading the audio file in read binary mode(as it is in binary form)\r\n",
        "      with io.open(audio, \"rb\") as audio_file:\r\n",
        "          content = audio_file.read()\r\n",
        "          audio = types.RecognitionAudio(content=content) # recognizing the audio/storing the audio in a variable\r\n",
        "\r\n",
        "\r\n",
        "      # setting up the configuration for speech to text api\r\n",
        "      config = types.RecognitionConfig(\r\n",
        "          encoding = speech.RecognitionConfig.AudioEncoding.LINEAR16,\r\n",
        "          language_code = 'en-US',\r\n",
        "          enable_word_time_offsets = True,\r\n",
        "          enable_automatic_punctuation = True\r\n",
        "      )\r\n",
        "\r\n",
        "      # storing the response from speech to text api into a variable\r\n",
        "      response = client.recognize(config = config, audio = audio)\r\n",
        "\r\n",
        "      return response\r\n",
        "    except:\r\n",
        "      client = speech.SpeechClient()\r\n",
        "      audio = types.RecognitionAudio(uri=audio)\r\n",
        "      config = types.RecognitionConfig(\r\n",
        "          encoding = speech.RecognitionConfig.AudioEncoding.FLAC,\r\n",
        "          language_code = 'en-US',\r\n",
        "          enable_word_time_offsets = True,\r\n",
        "          enable_automatic_punctuation = True\r\n",
        "      )\r\n",
        "      operation = client.long_running_recognize(config=config, audio=audio)\r\n",
        "\r\n",
        "      print(\"Waiting for operation to complete...\")\r\n",
        "      response = operation.result(timeout=90)\r\n",
        "      return response"
      ],
      "execution_count": null,
      "outputs": []
    },
    {
      "cell_type": "code",
      "metadata": {
        "id": "YqS2rbGiWxWe"
      },
      "source": [
        "def create_sentences(audio):\r\n",
        "  response = convert_speech_to_text(audio)\r\n",
        "  data = {}\r\n",
        "  data[\"transcript\"] = \"\"\r\n",
        "  data['words'] = []\r\n",
        "  trans = \"\"\r\n",
        "  start_times = []\r\n",
        "  end_times = []\r\n",
        "  store = True\r\n",
        "  for result in response.results:\r\n",
        "    for result in response.results:\r\n",
        "      trans += result.alternatives[0].transcript\r\n",
        "      alternative = result.alternatives[0]\r\n",
        "      for word_info in alternative.words:\r\n",
        "        data['words'].append({\r\n",
        "            'word':word_info.word,\r\n",
        "            'start_time':str(word_info.start_time),\r\n",
        "            'end_time': str(word_info.end_time)\r\n",
        "        })\r\n",
        "        data[\"transcript\"] = trans\r\n",
        "    response = data\r\n",
        "    sentence = \"\"\r\n",
        "    sentences = []\r\n",
        "    for i in range(len(response[\"words\"]) - 1):\r\n",
        "      if(store):\r\n",
        "        start_times.append(str(response[\"words\"][i][\"start_time\"]))\r\n",
        "      start_time = response[\"words\"][i+1][\"start_time\"].split(\":\")\r\n",
        "      end_time = response[\"words\"][i][\"end_time\"].split(\":\")\r\n",
        "      store = False\r\n",
        "      if(start_time[2] == end_time[2]):\r\n",
        "        sentence += response[\"words\"][i][\"word\"] + \" \"\r\n",
        "      else:\r\n",
        "        end_times.append(str(response[\"words\"][i][\"end_time\"]))\r\n",
        "        sentence += response[\"words\"][i][\"word\"] + \" \"\r\n",
        "        sentences.append(sentence)\r\n",
        "        sentence = \"\"\r\n",
        "        store = True\r\n",
        "    sentences.append(sentence)\r\n",
        "    end_times.append(str(response[\"words\"][i+1][\"end_time\"]))\r\n",
        "    return sentences, start_times, end_times\r\n"
      ],
      "execution_count": null,
      "outputs": []
    },
    {
      "cell_type": "code",
      "metadata": {
        "id": "RwkZErUyYd-F"
      },
      "source": [
        ""
      ],
      "execution_count": null,
      "outputs": []
    },
    {
      "cell_type": "code",
      "metadata": {
        "id": "G-N20rkIEENM"
      },
      "source": [
        "os.environ[\"GOOGLE_APPLICATION_CREDENTIALS\"] = '/content/drive/My Drive/GCP/translationAPI.json'\r\n",
        "translate_client = translate.Client()\r\n",
        "def _translate(word, language_code, start_time_list, end_time_list):\r\n",
        "    #setting up the environment for transaltion api\r\n",
        "    print(\"it's about to complete please wait some more time ...\")\r\n",
        "    output = translate_client.translate(word, language_code) # Translating the word from one language to another\r\n",
        "    _translation = {}\r\n",
        "    _translation[\"words\"] = []\r\n",
        "    for i in range(len(output)):\r\n",
        "      _translation[\"words\"].append({\r\n",
        "          output[i]['detectedSourceLanguage']: output[i][\"input\"],\r\n",
        "          \"start_time\": start_time_list[i],\r\n",
        "          \"end_time\": end_time_list[i],\r\n",
        "          language_code: output[i]['translatedText']\r\n",
        "      })\r\n",
        "    return _translation"
      ],
      "execution_count": null,
      "outputs": []
    },
    {
      "cell_type": "code",
      "metadata": {
        "id": "GFVGienf-s4m"
      },
      "source": [
        "textToSpeechClient = texttospeech_v1.TextToSpeechClient()\r\n",
        "def _textToSpeech(text, rate, language):\r\n",
        "  os.environ[\"GOOGLE_APPLICATION_CREDENTIALS\"] = '/content/drive/My Drive/GCP/text-to-speech-practice.json'\r\n",
        "  synthesis_input = texttospeech_v1.SynthesisInput(text=text)\r\n",
        "  voice1 = texttospeech_v1.VoiceSelectionParams(\r\n",
        "    language_code=language,\r\n",
        "    ssml_gender=texttospeech_v1.SsmlVoiceGender.MALE\r\n",
        "  )\r\n",
        "  audio_config = texttospeech_v1.AudioConfig(\r\n",
        "      audio_encoding=texttospeech_v1.AudioEncoding.LINEAR16,\r\n",
        "      speaking_rate=rate\r\n",
        "  )\r\n",
        "  response1 = textToSpeechClient.synthesize_speech(\r\n",
        "    input=synthesis_input,\r\n",
        "    voice=voice1,\r\n",
        "    audio_config=audio_config\r\n",
        "  )\r\n",
        "  return response1"
      ],
      "execution_count": null,
      "outputs": []
    },
    {
      "cell_type": "code",
      "metadata": {
        "id": "HcVNFDUSM8hc"
      },
      "source": [
        "import math\r\n",
        "def convert_translation(sentences_list, language_code, start_time_list, end_time_list):\r\n",
        "  translation = _translate(sentences_list, language_code, start_time_list, end_time_list)\r\n",
        "  response2 = []\r\n",
        "  blank_time = []\r\n",
        "  if(len(translation[\"words\"]) > 1):\r\n",
        "    for i in range(len(translation[\"words\"]) - 1):\r\n",
        "      _blankTime = round(float((translation[\"words\"][i+1][\"start_time\"].split(\":\"))[2]), 4) - round(float((translation[\"words\"][i][\"end_time\"].split(\":\"))[2]), 4)\r\n",
        "      blank_time.append(_blankTime)\r\n",
        "  for sentence in translation[\"words\"]:\r\n",
        "    start_time = sentence[\"start_time\"].split(\":\")\r\n",
        "    start_time = start_time[2]\r\n",
        "    end_time = sentence[\"end_time\"].split(\":\")\r\n",
        "    end_time = end_time[2]\r\n",
        "    time = float(end_time) - float(start_time)\r\n",
        "    print(time)\r\n",
        "    rate = 0\r\n",
        "    if(time/(float(len(sentence[language_code]))) < 0.5):\r\n",
        "      rate = 0.70\r\n",
        "    elif(time/(float(len(sentence[language_code]))) > 0.5 and time/(float(len(sentence[language_code]))) < 1):\r\n",
        "      rate = 0.80\r\n",
        "    elif(time/(float(len(sentence[language_code]))) > 1 and time/(float(len(sentence[language_code]))) < 1.5):\r\n",
        "      rate = 1.30\r\n",
        "    elif(time/(float(len(sentence[language_code]))) < 1.5 and time/(float(len(sentence[language_code]))) < 2):\r\n",
        "      rate = 1.78\r\n",
        "    else:\r\n",
        "      rate = 1\r\n",
        "    response2.append(_textToSpeech(sentence[language_code], rate, language_code))\r\n",
        "  return response2, blank_time"
      ],
      "execution_count": null,
      "outputs": []
    },
    {
      "cell_type": "code",
      "metadata": {
        "id": "rGNoQpOuLQOw"
      },
      "source": [
        "def function_calls(audio,language_code=\"hi\"):\r\n",
        "  sentences_list, start_time_list, end_time_list = create_sentences(audio)\r\n",
        "  converted_audio, blank_time = convert_translation(sentences_list, language_code, start_time_list, end_time_list)\r\n",
        "  print(\"converting to audios ...\")\r\n",
        "  return converted_audio, blank_time\r\n"
      ],
      "execution_count": null,
      "outputs": []
    },
    {
      "cell_type": "code",
      "metadata": {
        "id": "VDrrg6gsP5NX"
      },
      "source": [
        "# if __name__ == \"__main__\":\r\n",
        "def dub(audio, language):\r\n",
        "  converted_audio, blank_time = function_calls(audio, language)\r\n",
        "  print(\"reached ...\")\r\n",
        "  path = \"/content/drive/My Drive/GCP/testAudio/\"\r\n",
        "  for i in range(len(converted_audio)):\r\n",
        "    with open(f\"{path}_0{i}.wav\", \"ab\") as output1:\r\n",
        "      output1.write(converted_audio[i].audio_content) \r\n",
        "  import glob\r\n",
        "  print(\"converting ...\")\r\n",
        "  filenames = glob.glob(path+'*.wav')\r\n",
        "  # open(f\"{path}finalAudio.wav\", \"wb\").close()\r\n",
        "  final = AudioSegment.empty()\r\n",
        "  j= 0\r\n",
        "  print(\"it;s about to done ...\")\r\n",
        "  for i in filenames:\r\n",
        "    final += AudioSegment.from_wav(i)\r\n",
        "    if(j < len(blank_time)):\r\n",
        "      final += AudioSegment.silent(duration=blank_time[j]*1000)\r\n",
        "      j+=1\r\n",
        "  final.export(f\"{path}/finalAudios/finalAudio.wav\", format=\"wav\")\r\n",
        "  print(\"All done\")"
      ],
      "execution_count": null,
      "outputs": []
    },
    {
      "cell_type": "code",
      "metadata": {
        "id": "3xmrT0Bggg-k"
      },
      "source": [
        "audio = \"/content/drive/My Drive/GCP/fi_.wav\""
      ],
      "execution_count": null,
      "outputs": []
    },
    {
      "cell_type": "code",
      "metadata": {
        "colab": {
          "base_uri": "https://localhost:8080/"
        },
        "id": "B-UWGQTl4Eee",
        "outputId": "034ec445-4166-4ef2-fc2c-4ac0a0c2196b"
      },
      "source": [
        "dub(audio, \"ja\")"
      ],
      "execution_count": null,
      "outputs": [
        {
          "output_type": "stream",
          "text": [
            "Start dubbing please wait ...\n",
            "it's about to complete please wait some more time ...\n",
            "13.2\n",
            "36.6\n",
            "converting to audios ...\n",
            "reached ...\n",
            "converting ...\n",
            "it;s about to done ...\n",
            "All done\n"
          ],
          "name": "stdout"
        }
      ]
    }
  ]
}